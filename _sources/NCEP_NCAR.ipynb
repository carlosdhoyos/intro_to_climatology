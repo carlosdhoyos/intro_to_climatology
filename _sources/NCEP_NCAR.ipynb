{
 "cells": [
  {
   "cell_type": "markdown",
   "id": "c158d91f",
   "metadata": {},
   "source": [
    "### NCEP NCAR"
   ]
  }
 ],
 "metadata": {
  "kernelspec": {
   "display_name": "Python 3",
   "language": "python",
   "name": "python3"
  },
  "language_info": {
   "name": "python",
   "version": "3.9.10"
  }
 },
 "nbformat": 4,
 "nbformat_minor": 5
}
